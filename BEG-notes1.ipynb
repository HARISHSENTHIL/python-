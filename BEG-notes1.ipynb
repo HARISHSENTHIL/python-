{
 "cells": [
  {
   "cell_type": "code",
   "execution_count": 4,
   "id": "73b875b9",
   "metadata": {},
   "outputs": [
    {
     "name": "stdout",
     "output_type": "stream",
     "text": [
      "harish[senthil] is a coder\n"
     ]
    }
   ],
   "source": [
    "f = 'harish'\n",
    "l = 'senthil' \n",
    "m = f+' ['+l+'] is a coder'\n",
    "m=f'{f}[{l}] is a coder'\n",
    "print(m)"
   ]
  },
  {
   "cell_type": "code",
   "execution_count": 7,
   "id": "2e9a188f",
   "metadata": {},
   "outputs": [
    {
     "name": "stdout",
     "output_type": "stream",
     "text": [
      "hfjjfjfjfjfjjeennjenjejejujehusushushuhuhhhhhhhhhhhhhhhhhhhhh\n",
      "name can be maximum 50 ccharc\n"
     ]
    }
   ],
   "source": [
    "a = input()\n",
    "if len(a) < 3:\n",
    "    print(\"name must be 3 charcter\")\n",
    "elif len(a) > 50:\n",
    "    print('name can be maximum 50 ccharc')\n",
    "else:\n",
    "    print('name looks good')\n",
    "    "
   ]
  },
  {
   "cell_type": "code",
   "execution_count": 12,
   "id": "ab65dbd1",
   "metadata": {},
   "outputs": [
    {
     "name": "stdout",
     "output_type": "stream",
     "text": [
      "weight:65\n",
      "(L)lbs : (K)kgk\n",
      "your weight is: 144.0\n"
     ]
    }
   ],
   "source": [
    "weight = int(input('weight:'))\n",
    "unit = input('(L)lbs : (K)kg')\n",
    "if unit.upper() == \"L\" :\n",
    "    convert=weight*0.45\n",
    "    print(f'your weight is: {convert}')\n",
    "else:\n",
    "    convert=weight//0.45\n",
    "    print(f'your weight is: {convert}')"
   ]
  },
  {
   "cell_type": "code",
   "execution_count": 10,
   "id": "7f53abff",
   "metadata": {},
   "outputs": [
    {
     "name": "stdout",
     "output_type": "stream",
     "text": [
      "guess:5\n",
      "guess:5\n",
      "guess:5\n",
      "you wrong make an correct guess !\n"
     ]
    }
   ],
   "source": [
    "sec_num = 9\n",
    "guess_count=0\n",
    "guess_limit=3\n",
    "while guess_count < guess_limit :\n",
    "    guess = int(input(\"guess:\"))\n",
    "    guess_count += 1\n",
    "    if guess == sec_num :\n",
    "        print('you won')\n",
    "        break\n",
    "else :\n",
    "    print('you wrong make an correct guess !')"
   ]
  },
  {
   "cell_type": "code",
   "execution_count": 5,
   "id": "686248f4",
   "metadata": {},
   "outputs": [
    {
     "name": "stdout",
     "output_type": "stream",
     "text": [
      "*\n",
      "**\n",
      "***\n",
      "****\n",
      "*****\n",
      "Done\n"
     ]
    }
   ],
   "source": [
    "i = 1\n",
    "while i <=5 :\n",
    "    print('*' * i)\n",
    "    i+=1 #i = i+1\n",
    "print(\"Done\")"
   ]
  },
  {
   "cell_type": "code",
   "execution_count": 1,
   "id": "f2feb00a",
   "metadata": {},
   "outputs": [
    {
     "name": "stdout",
     "output_type": "stream",
     "text": [
      "> help\n",
      "\n",
      "        start - to start car\n",
      "        stop - to stop car\n",
      "        quite - to quite        \n",
      "        \n",
      "> start\n",
      "car started ...\n",
      "> quite\n"
     ]
    }
   ],
   "source": [
    "command = \"\"\n",
    "while command != \"quite\":\n",
    "    command = input(\"> \").lower()\n",
    "    if command == \"start\":\n",
    "        print(\"car started ...\")\n",
    "    elif command == \"stop\":\n",
    "        print(\"car stopped...\")\n",
    "    elif command == \"help\" :\n",
    "        print(\"\"\"\n",
    "        start - to start car\n",
    "        stop - to stop car\n",
    "        quite - to quite        \n",
    "        \"\"\")\n",
    "    elif command == \"quite\":\n",
    "            break \n",
    "    else:\n",
    "            print(\"sorry i dont't understand \")"
   ]
  },
  {
   "cell_type": "code",
   "execution_count": 11,
   "id": "89bf88ec",
   "metadata": {},
   "outputs": [
    {
     "name": "stdout",
     "output_type": "stream",
     "text": [
      "0\n",
      "1\n",
      "2\n",
      "3\n",
      "4\n",
      "5\n",
      "6\n",
      "7\n",
      "8\n",
      "9\n"
     ]
    }
   ],
   "source": [
    "for item in range(10) :\n",
    "    print(item)"
   ]
  },
  {
   "cell_type": "code",
   "execution_count": 16,
   "id": "ce461e87",
   "metadata": {},
   "outputs": [
    {
     "name": "stdout",
     "output_type": "stream",
     "text": [
      "60\n"
     ]
    }
   ],
   "source": [
    "price=[10,20,30]\n",
    "total = 0\n",
    "for i in price:\n",
    "    total = total+i\n",
    "print(total)"
   ]
  },
  {
   "cell_type": "code",
   "execution_count": 21,
   "id": "e0a2fae3",
   "metadata": {},
   "outputs": [
    {
     "name": "stdout",
     "output_type": "stream",
     "text": [
      "xxxxx\n",
      "xx\n",
      "xxxxx\n",
      "xx\n",
      "xx\n"
     ]
    }
   ],
   "source": [
    "num = [5,2,5,2,2]\n",
    "for i in num :\n",
    "    print('x' * i)\n"
   ]
  },
  {
   "cell_type": "code",
   "execution_count": 4,
   "id": "f62f1b66",
   "metadata": {},
   "outputs": [
    {
     "name": "stdout",
     "output_type": "stream",
     "text": [
      "xxxxx\n",
      "xx\n",
      "xxxxx\n",
      "xx\n",
      "xx\n"
     ]
    }
   ],
   "source": [
    "numbers = [5,2,5,2,2]\n",
    "for i in numbers:\n",
    "    output = \"\"\n",
    "    for count in range(i):\n",
    "        output += 'x' \n",
    "    print (output) "
   ]
  },
  {
   "cell_type": "code",
   "execution_count": 26,
   "id": "97044e81",
   "metadata": {},
   "outputs": [
    {
     "data": {
      "text/plain": [
       "2000"
      ]
     },
     "execution_count": 26,
     "metadata": {},
     "output_type": "execute_result"
    }
   ],
   "source": [
    "number = [10,2000,54,78,98,100]\n",
    "max = number[0]\n",
    "for i in number :\n",
    "    if i > max:\n",
    "        max = i\n",
    "max        "
   ]
  },
  {
   "cell_type": "code",
   "execution_count": 2,
   "id": "c71c585d",
   "metadata": {},
   "outputs": [
    {
     "name": "stdout",
     "output_type": "stream",
     "text": [
      "[10, 20, 54, 78, 98, 100]\n"
     ]
    }
   ],
   "source": [
    "numbers = [10,20,20,54,78,98,100,100]\n",
    "no =[]\n",
    "for i in numbers :\n",
    "    if i not in no :\n",
    "        no.append(i)\n",
    "print(no)"
   ]
  },
  {
   "cell_type": "code",
   "execution_count": null,
   "id": "49140eb5",
   "metadata": {},
   "outputs": [],
   "source": [
    "coordinates = (1,2,3,4) # this is tuple () immutable \n",
    "x = coordinates[0]\n",
    "y = coordinates[1]\n",
    " = coordinates[2]\n",
    "x = coordinates[3]\n",
    "# instaed of these we can do \n"
   ]
  },
  {
   "cell_type": "code",
   "execution_count": 10,
   "id": "10199782",
   "metadata": {},
   "outputs": [
    {
     "name": "stdout",
     "output_type": "stream",
     "text": [
      "phone:4213\n",
      "four two one three \n"
     ]
    }
   ],
   "source": [
    "phone = input(\"phone:\")\n",
    "digits = {\n",
    "    '1':'one',\n",
    "    '2':'two',\n",
    "    '3':'three',\n",
    "    '4':'four'\n",
    "}\n",
    "output=\"\"\n",
    "for i in phone :\n",
    "    output += digits.get(i,\"!\") + \" \"\n",
    "print(output)\n",
    "    "
   ]
  },
  {
   "cell_type": "code",
   "execution_count": 3,
   "id": "fd21f44d",
   "metadata": {},
   "outputs": [
    {
     "name": "stdout",
     "output_type": "stream",
     "text": [
      "(5, 1)\n"
     ]
    }
   ],
   "source": [
    "import random\n",
    "class dice :\n",
    "    def roll(self):\n",
    "        first = random.randint(1,6)\n",
    "        second = random.randint(1,6)\n",
    "        return first , second\n",
    "    \n",
    "dice = dice()\n",
    "print(dice.roll())"
   ]
  },
  {
   "cell_type": "code",
   "execution_count": null,
   "id": "256bb287",
   "metadata": {},
   "outputs": [],
   "source": []
  },
  {
   "cell_type": "code",
   "execution_count": null,
   "id": "d4305a7b",
   "metadata": {},
   "outputs": [],
   "source": []
  }
 ],
 "metadata": {
  "kernelspec": {
   "display_name": "Python 3 (ipykernel)",
   "language": "python",
   "name": "python3"
  },
  "language_info": {
   "codemirror_mode": {
    "name": "ipython",
    "version": 3
   },
   "file_extension": ".py",
   "mimetype": "text/x-python",
   "name": "python",
   "nbconvert_exporter": "python",
   "pygments_lexer": "ipython3",
   "version": "3.10.9"
  }
 },
 "nbformat": 4,
 "nbformat_minor": 5
}

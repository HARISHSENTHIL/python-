{
 "cells": [
  {
   "cell_type": "code",
   "execution_count": 1,
   "id": "76f8bda8",
   "metadata": {},
   "outputs": [],
   "source": [
    "# import openpyxl as xl\n",
    "# wb = xl.load_workbook('transactions2.xlsx')\n",
    "# sheet = wb['Sheet1']\n",
    "# cell= sheet.cell(1,1) \n",
    "\n",
    "# for row in range(2, sheet.max_row + 1):\n",
    "#     cell = sheet.cell(row,3)\n",
    "#     corrected_price = cell.value*0.9\n",
    "#     corrected_price_cell = sheet.cell(row, 4)\n",
    "#     corrected_price_cell.value =corrected_price\n",
    "    \n",
    "# wb.save('transactions.xlsx')"
   ]
  },
  {
   "cell_type": "code",
   "execution_count": 32,
   "id": "ca71427b",
   "metadata": {
    "scrolled": true
   },
   "outputs": [],
   "source": [
    "# import pandas as pd\n",
    "# df = pd.read_csv('vgsales.csv')\n",
    "# df.describe()\n",
    "# # df.shape\n",
    "# # df.values"
   ]
  },
  {
   "cell_type": "markdown",
   "id": "7c57acac",
   "metadata": {},
   "source": [
    "# Decision tree model using sklearn"
   ]
  },
  {
   "cell_type": "code",
   "execution_count": 29,
   "id": "d71e7c68",
   "metadata": {},
   "outputs": [
    {
     "data": {
      "text/plain": [
       "0.75"
      ]
     },
     "execution_count": 29,
     "metadata": {},
     "output_type": "execute_result"
    }
   ],
   "source": [
    "import pandas as pd\n",
    "from sklearn.tree import DecisionTreeClassifier\n",
    "from sklearn.model_selection import train_test_split\n",
    "from sklearn.metrics import accuracy_score\n",
    "\n",
    "\n",
    "df = pd.read_csv('music.csv')\n",
    "x = df.drop(columns=['genre'])\n",
    "y = df['genre']\n",
    "x_train , x_test , y_train , y_test = train_test_split(x,y, test_size=0.2)\n",
    "\n",
    "model = DecisionTreeClassifier()\n",
    "model.fit(x_train, y_train)\n",
    "\n",
    "predictions = model.predict(x_test)\n",
    "score = accuracy_score(y_test , predictions)\n",
    "score"
   ]
  },
  {
   "cell_type": "markdown",
   "id": "6480a315",
   "metadata": {},
   "source": [
    "# model persisting \n",
    "dump the code of model.like an (userdefined function in c) and can use when it need ."
   ]
  },
  {
   "cell_type": "code",
   "execution_count": null,
   "id": "68b5a457",
   "metadata": {},
   "outputs": [],
   "source": [
    "import pandas as pd\n",
    "from sklearn.tree import DecisionTreeClassifier\n",
    "from sklearn.externals import joblib\n",
    "\n",
    "# df = pd.read_csv('music.csv')\n",
    "# x = df.drop(columns=['genre'])\n",
    "# y = df['genre']\n",
    "\n",
    "# model = DecisionTreeClassifier()\n",
    "# model.fit(x, y)\n",
    "\n",
    "# joblibb.dump(model,'music-recommemder.joblib') >> help to store the model.\n",
    "\n",
    "model = joblib.load('music-recommemder.joblib')\n",
    "predictions = model.predict([[21,1]])\n",
    "predictions"
   ]
  },
  {
   "cell_type": "code",
   "execution_count": 36,
   "id": "9c892115",
   "metadata": {},
   "outputs": [],
   "source": [
    "import pandas as pd\n",
    "from sklearn.tree import DecisionTreeClassifier\n",
    "from sklearn import tree\n",
    "\n",
    "df = pd.read_csv('music.csv')\n",
    "x = df.drop(columns=['genre'])\n",
    "y = df['genre']\n",
    "\n",
    "model = DecisionTreeClassifier()\n",
    "model.fit(x, y)\n",
    "\n"
   ]
  },
  {
   "cell_type": "code",
   "execution_count": null,
   "id": "9691ed00",
   "metadata": {},
   "outputs": [],
   "source": []
  }
 ],
 "metadata": {
  "kernelspec": {
   "display_name": "Python 3 (ipykernel)",
   "language": "python",
   "name": "python3"
  },
  "language_info": {
   "codemirror_mode": {
    "name": "ipython",
    "version": 3
   },
   "file_extension": ".py",
   "mimetype": "text/x-python",
   "name": "python",
   "nbconvert_exporter": "python",
   "pygments_lexer": "ipython3",
   "version": "3.10.9"
  }
 },
 "nbformat": 4,
 "nbformat_minor": 5
}
